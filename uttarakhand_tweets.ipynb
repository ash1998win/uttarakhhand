{
  "nbformat": 4,
  "nbformat_minor": 0,
  "metadata": {
    "colab": {
      "name": "uttarakhand tweets.ipynb",
      "provenance": [],
      "collapsed_sections": [],
      "authorship_tag": "ABX9TyPx64ylYRUXBOGj3Ylix22x",
      "include_colab_link": true
    },
    "kernelspec": {
      "name": "python3",
      "display_name": "Python 3"
    },
    "language_info": {
      "name": "python"
    }
  },
  "cells": [
    {
      "cell_type": "markdown",
      "metadata": {
        "id": "view-in-github",
        "colab_type": "text"
      },
      "source": [
        "<a href=\"https://colab.research.google.com/github/ash1998win/uttarakhhand/blob/main/uttarakhand_tweets.ipynb\" target=\"_parent\"><img src=\"https://colab.research.google.com/assets/colab-badge.svg\" alt=\"Open In Colab\"/></a>"
      ]
    },
    {
      "cell_type": "markdown",
      "metadata": {
        "id": "rb0sKfFsiU8u"
      },
      "source": [
        "IMPORT THE LIBRARIES"
      ]
    },
    {
      "cell_type": "code",
      "metadata": {
        "id": "L4GSi-I3hiN3"
      },
      "source": [
        "import gensim\n",
        "from gensim.utils import simple_preprocess\n",
        "from gensim.parsing.preprocessing import STOPWORDS\n",
        "from nltk.stem import WordNetLemmatizer,SnowballStemmer\n",
        "from nltk.stem.porter import *\n",
        "import numpy as np\n",
        "import pandas as pd\n",
        "np.random.seed(400)"
      ],
      "execution_count": 36,
      "outputs": []
    },
    {
      "cell_type": "code",
      "metadata": {
        "colab": {
          "base_uri": "https://localhost:8080/"
        },
        "id": "5XTVJUhYrAL8",
        "outputId": "f65f175a-cc75-47a6-e859-f938b81bd342"
      },
      "source": [
        "import nltk\n",
        "nltk.download('wordnet')"
      ],
      "execution_count": 37,
      "outputs": [
        {
          "output_type": "stream",
          "text": [
            "[nltk_data] Downloading package wordnet to /root/nltk_data...\n",
            "[nltk_data]   Package wordnet is already up-to-date!\n"
          ],
          "name": "stdout"
        },
        {
          "output_type": "execute_result",
          "data": {
            "text/plain": [
              "True"
            ]
          },
          "metadata": {
            "tags": []
          },
          "execution_count": 37
        }
      ]
    },
    {
      "cell_type": "code",
      "metadata": {
        "id": "N0KY7S2irWCQ"
      },
      "source": [
        "df = pd.read_csv('Uttarakhand.csv')"
      ],
      "execution_count": 38,
      "outputs": []
    },
    {
      "cell_type": "code",
      "metadata": {
        "colab": {
          "base_uri": "https://localhost:8080/",
          "height": 195
        },
        "id": "AKg8agsLrtA9",
        "outputId": "5faba5a3-0930-4855-d0b3-a1a97b66697e"
      },
      "source": [
        "df.head()"
      ],
      "execution_count": 39,
      "outputs": [
        {
          "output_type": "execute_result",
          "data": {
            "text/html": [
              "<div>\n",
              "<style scoped>\n",
              "    .dataframe tbody tr th:only-of-type {\n",
              "        vertical-align: middle;\n",
              "    }\n",
              "\n",
              "    .dataframe tbody tr th {\n",
              "        vertical-align: top;\n",
              "    }\n",
              "\n",
              "    .dataframe thead th {\n",
              "        text-align: right;\n",
              "    }\n",
              "</style>\n",
              "<table border=\"1\" class=\"dataframe\">\n",
              "  <thead>\n",
              "    <tr style=\"text-align: right;\">\n",
              "      <th></th>\n",
              "      <th>tweet</th>\n",
              "    </tr>\n",
              "  </thead>\n",
              "  <tbody>\n",
              "    <tr>\n",
              "      <th>0</th>\n",
              "      <td>Horrible news out of #Uttarakhand</td>\n",
              "    </tr>\n",
              "    <tr>\n",
              "      <th>1</th>\n",
              "      <td>Prayer for #Uttarakhand 🙏🙏</td>\n",
              "    </tr>\n",
              "    <tr>\n",
              "      <th>2</th>\n",
              "      <td>Ohhh God Please Save #Uttarakhand</td>\n",
              "    </tr>\n",
              "    <tr>\n",
              "      <th>3</th>\n",
              "      <td>Extremely Sad To Hear About The #Uttarakhand G...</td>\n",
              "    </tr>\n",
              "    <tr>\n",
              "      <th>4</th>\n",
              "      <td>Prayers for #Uttarakhand 🙏🙏</td>\n",
              "    </tr>\n",
              "  </tbody>\n",
              "</table>\n",
              "</div>"
            ],
            "text/plain": [
              "                                               tweet\n",
              "0                  Horrible news out of #Uttarakhand\n",
              "1                         Prayer for #Uttarakhand 🙏🙏\n",
              "2                  Ohhh God Please Save #Uttarakhand\n",
              "3  Extremely Sad To Hear About The #Uttarakhand G...\n",
              "4                        Prayers for #Uttarakhand 🙏🙏"
            ]
          },
          "metadata": {
            "tags": []
          },
          "execution_count": 39
        }
      ]
    },
    {
      "cell_type": "code",
      "metadata": {
        "id": "rvzF4PzyMORZ"
      },
      "source": [
        "stemmer=SnowballStemmer('english')"
      ],
      "execution_count": 40,
      "outputs": []
    },
    {
      "cell_type": "markdown",
      "metadata": {
        "id": "dtTQPZBWtYkB"
      },
      "source": [
        "Preprocess"
      ]
    },
    {
      "cell_type": "code",
      "metadata": {
        "id": "291LerPmru7D"
      },
      "source": [
        "def lemmatize_stem(text):\n",
        "  return stemmer.stem(WordNetLemmatizer().lemmatize(text,pos='v'))\n",
        "from gensim.parsing.preprocessing import preprocess_string\n",
        "from gensim.parsing.preprocessing import preprocess_string\n",
        "from gensim.parsing.preprocessing import strip_tags\n",
        "from gensim.parsing.preprocessing import strip_short\n",
        "from gensim.parsing.preprocessing import strip_multiple_whitespaces\n",
        "from gensim.parsing.preprocessing import stem_text\n",
        "from gensim.parsing.preprocessing import remove_stopwords\n",
        "from gensim.parsing.preprocessing import strip_punctuation\n",
        "my_filter = [\n",
        "  lambda x: x.lower(), strip_tags, strip_punctuation,\n",
        "  strip_multiple_whitespaces, strip_punctuation,\n",
        "  remove_stopwords, strip_short, stem_text]\n",
        "\n",
        "def preprocess(text):\n",
        "  \n",
        "  result=[]\n",
        "\n",
        "  for token in preprocess_string(text,filters=my_filter):\n",
        "    if token not in gensim.parsing.preprocessing.STOPWORDS and len(token)>=3 :\n",
        "      result.append(lemmatize_stem(token))\n",
        "  return result"
      ],
      "execution_count": 41,
      "outputs": []
    },
    {
      "cell_type": "code",
      "metadata": {
        "id": "pz9bnX5-9Y-3"
      },
      "source": [
        ""
      ],
      "execution_count": 41,
      "outputs": []
    },
    {
      "cell_type": "code",
      "metadata": {
        "id": "wd1qSYFVytlv"
      },
      "source": [
        "df['index']=df.index\n"
      ],
      "execution_count": 42,
      "outputs": []
    },
    {
      "cell_type": "code",
      "metadata": {
        "id": "n8lUbH9p8XU8"
      },
      "source": [
        ""
      ],
      "execution_count": 42,
      "outputs": []
    },
    {
      "cell_type": "code",
      "metadata": {
        "colab": {
          "base_uri": "https://localhost:8080/",
          "height": 195
        },
        "id": "Uh4Nd4wN8fVk",
        "outputId": "e42bd66b-f5b2-4299-9c7b-ba1aa1f2d261"
      },
      "source": [
        "df.head()"
      ],
      "execution_count": 43,
      "outputs": [
        {
          "output_type": "execute_result",
          "data": {
            "text/html": [
              "<div>\n",
              "<style scoped>\n",
              "    .dataframe tbody tr th:only-of-type {\n",
              "        vertical-align: middle;\n",
              "    }\n",
              "\n",
              "    .dataframe tbody tr th {\n",
              "        vertical-align: top;\n",
              "    }\n",
              "\n",
              "    .dataframe thead th {\n",
              "        text-align: right;\n",
              "    }\n",
              "</style>\n",
              "<table border=\"1\" class=\"dataframe\">\n",
              "  <thead>\n",
              "    <tr style=\"text-align: right;\">\n",
              "      <th></th>\n",
              "      <th>tweet</th>\n",
              "      <th>index</th>\n",
              "    </tr>\n",
              "  </thead>\n",
              "  <tbody>\n",
              "    <tr>\n",
              "      <th>0</th>\n",
              "      <td>Horrible news out of #Uttarakhand</td>\n",
              "      <td>0</td>\n",
              "    </tr>\n",
              "    <tr>\n",
              "      <th>1</th>\n",
              "      <td>Prayer for #Uttarakhand 🙏🙏</td>\n",
              "      <td>1</td>\n",
              "    </tr>\n",
              "    <tr>\n",
              "      <th>2</th>\n",
              "      <td>Ohhh God Please Save #Uttarakhand</td>\n",
              "      <td>2</td>\n",
              "    </tr>\n",
              "    <tr>\n",
              "      <th>3</th>\n",
              "      <td>Extremely Sad To Hear About The #Uttarakhand G...</td>\n",
              "      <td>3</td>\n",
              "    </tr>\n",
              "    <tr>\n",
              "      <th>4</th>\n",
              "      <td>Prayers for #Uttarakhand 🙏🙏</td>\n",
              "      <td>4</td>\n",
              "    </tr>\n",
              "  </tbody>\n",
              "</table>\n",
              "</div>"
            ],
            "text/plain": [
              "                                               tweet  index\n",
              "0                  Horrible news out of #Uttarakhand      0\n",
              "1                         Prayer for #Uttarakhand 🙏🙏      1\n",
              "2                  Ohhh God Please Save #Uttarakhand      2\n",
              "3  Extremely Sad To Hear About The #Uttarakhand G...      3\n",
              "4                        Prayers for #Uttarakhand 🙏🙏      4"
            ]
          },
          "metadata": {
            "tags": []
          },
          "execution_count": 43
        }
      ]
    },
    {
      "cell_type": "code",
      "metadata": {
        "id": "XL7PN3G_8u9R",
        "colab": {
          "base_uri": "https://localhost:8080/"
        },
        "outputId": "d5f955b3-3490-4f19-ba07-380c71da115a"
      },
      "source": [
        "df_num=1234\n",
        "df_sample=df[df['index']==df_num].values[0][0]\n",
        "print('orgdoc:')\n",
        "words=[]\n",
        "for word in df_sample.split(' '):\n",
        "  words.append(word)\n",
        "print(words)\n",
        "print('\\n\\nTokenized and lemmatized data:')\n",
        "print(preprocess(df_sample))"
      ],
      "execution_count": 44,
      "outputs": [
        {
          "output_type": "stream",
          "text": [
            "orgdoc:\n",
            "['#Uttarakhand', 'Glacier', 'Disaster\\n\\nWATCH', '|', 'ITBP', 'teams', 'in', 'rescue', 'mission', 'near', 'Tapovan\\n\\nLIVE', 'updates', '👇…', 'https://t.co/NpiomHVFMa']\n",
            "\n",
            "\n",
            "Tokenized and lemmatized data:\n",
            "['uttarakhand', 'glacier', 'disast', 'watch', 'itbp', 'team', 'rescu', 'mission', 'near', 'tapovan', 'live', 'updat', 'http', 'npiomhvfma']\n"
          ],
          "name": "stdout"
        }
      ]
    },
    {
      "cell_type": "code",
      "metadata": {
        "id": "CprnoL6TLIxX"
      },
      "source": [
        "processed_df=df['tweet'].map(preprocess)"
      ],
      "execution_count": 45,
      "outputs": []
    },
    {
      "cell_type": "code",
      "metadata": {
        "colab": {
          "base_uri": "https://localhost:8080/"
        },
        "id": "vBTWHrthuyQl",
        "outputId": "bb0d9e86-b588-48d2-ca7d-22cf736d32a9"
      },
      "source": [
        "processed_df[:10]"
      ],
      "execution_count": 46,
      "outputs": [
        {
          "output_type": "execute_result",
          "data": {
            "text/plain": [
              "0                          [horribl, new, uttarakhand]\n",
              "1                                [prayer, uttarakhand]\n",
              "2                       [ohhh, god, save, uttarakhand]\n",
              "3    [extrem, sad, hear, uttarakhand, glacier, brea...\n",
              "4                                [prayer, uttarakhand]\n",
              "5                                [prayer, uttarakhand]\n",
              "6    [alert, uttarakhand, emerg, number, 1070, 9557...\n",
              "7    [heavi, devast, glacier, breakag, chamoli, utt...\n",
              "8    [wish, stai, safe, uttarakhand, tragedi, uttar...\n",
              "9                     [lord, shiva, save, uttarakhand]\n",
              "Name: tweet, dtype: object"
            ]
          },
          "metadata": {
            "tags": []
          },
          "execution_count": 46
        }
      ]
    },
    {
      "cell_type": "code",
      "metadata": {
        "id": "ENWablObu1Vi"
      },
      "source": [
        "dict_df=gensim.corpora.Dictionary(processed_df)"
      ],
      "execution_count": 47,
      "outputs": []
    },
    {
      "cell_type": "code",
      "metadata": {
        "id": "v2NYfgkcZxAh"
      },
      "source": [
        "bow_corpus=[dict_df.doc2bow(doc) for doc in processed_df]"
      ],
      "execution_count": 48,
      "outputs": []
    },
    {
      "cell_type": "code",
      "metadata": {
        "colab": {
          "base_uri": "https://localhost:8080/"
        },
        "id": "hxTJq-Jwd_a0",
        "outputId": "cb105684-d256-47f9-da75-3be0bf394e08"
      },
      "source": [
        "bow_corpus[1234]"
      ],
      "execution_count": 49,
      "outputs": [
        {
          "output_type": "execute_result",
          "data": {
            "text/plain": [
              "[(2, 1),\n",
              " (10, 1),\n",
              " (13, 1),\n",
              " (57, 1),\n",
              " (95, 1),\n",
              " (97, 1),\n",
              " (117, 1),\n",
              " (220, 1),\n",
              " (225, 1),\n",
              " (256, 1),\n",
              " (582, 1),\n",
              " (601, 1),\n",
              " (886, 1),\n",
              " (2199, 1)]"
            ]
          },
          "metadata": {
            "tags": []
          },
          "execution_count": 49
        }
      ]
    },
    {
      "cell_type": "code",
      "metadata": {
        "id": "JY4HZpJEeJhu",
        "colab": {
          "base_uri": "https://localhost:8080/"
        },
        "outputId": "5b14fd5f-d9bc-4104-dcb7-38d622990b19"
      },
      "source": [
        "from gensim import corpora, models\n",
        "tfidf=models.TfidfModel(bow_corpus)\n",
        "print(tfidf)"
      ],
      "execution_count": 50,
      "outputs": [
        {
          "output_type": "stream",
          "text": [
            "TfidfModel(num_docs=8146, num_nnz=72649)\n"
          ],
          "name": "stdout"
        }
      ]
    },
    {
      "cell_type": "code",
      "metadata": {
        "colab": {
          "base_uri": "https://localhost:8080/"
        },
        "id": "vjr5nLf73Po6",
        "outputId": "b5269853-77a2-490f-b257-fcddc6b89f39"
      },
      "source": [
        "corpustfidf=tfidf[bow_corpus]\n",
        "print(corpustfidf[2])"
      ],
      "execution_count": 51,
      "outputs": [
        {
          "output_type": "stream",
          "text": [
            "[(2, 0.021177955889248794), (4, 0.34995096742016835), (5, 0.833955461479987), (6, 0.42615032893773935)]\n"
          ],
          "name": "stdout"
        }
      ]
    },
    {
      "cell_type": "code",
      "metadata": {
        "id": "JcQItXKU32Hs"
      },
      "source": [
        "lda_model=gensim.models.LdaMulticore(bow_corpus,num_topics=30,id2word=dict_df,passes=2,workers=2)"
      ],
      "execution_count": 52,
      "outputs": []
    },
    {
      "cell_type": "code",
      "metadata": {
        "colab": {
          "base_uri": "https://localhost:8080/"
        },
        "id": "N8v3SgBa6VZv",
        "outputId": "99497802-29ee-4197-b284-b5a5673b49c4"
      },
      "source": [
        "for idx , topic in lda_model.print_topics(-1):\n",
        "  print(f\"Topic: {idx}\\nWords: {topic}\")\n",
        "  print('\\n')"
      ],
      "execution_count": 53,
      "outputs": [
        {
          "output_type": "stream",
          "text": [
            "Topic: 0\n",
            "Words: 0.077*\"uttarakhand\" + 0.055*\"http\" + 0.035*\"prayer\" + 0.013*\"glacier\" + 0.012*\"🙏🏻🙏🏻\" + 0.012*\"chamoli\" + 0.011*\"prai\" + 0.008*\"break\" + 0.007*\"tsrawatbjp\" + 0.007*\"real\"\n",
            "\n",
            "\n",
            "Topic: 1\n",
            "Words: 0.042*\"http\" + 0.035*\"uttarakhand\" + 0.035*\"chamoli\" + 0.027*\"flood\" + 0.027*\"ganga\" + 0.025*\"dhauli\" + 0.022*\"joshimath\" + 0.021*\"district\" + 0.016*\"river\" + 0.016*\"glacier\"\n",
            "\n",
            "\n",
            "Topic: 2\n",
            "Words: 0.069*\"http\" + 0.063*\"uttarakhand\" + 0.028*\"area\" + 0.025*\"help\" + 0.022*\"need\" + 0.022*\"affect\" + 0.021*\"stick\" + 0.020*\"kind\" + 0.016*\"contact\" + 0.015*\"chamoli\"\n",
            "\n",
            "\n",
            "Topic: 3\n",
            "Words: 0.108*\"uttarakhand\" + 0.043*\"http\" + 0.036*\"prai\" + 0.019*\"prayer\" + 0.017*\"peopl\" + 0.015*\"chamoli\" + 0.012*\"flood\" + 0.012*\"amp\" + 0.007*\"safeti\" + 0.007*\"glacier\"\n",
            "\n",
            "\n",
            "Topic: 4\n",
            "Words: 0.137*\"uttarakhand\" + 0.055*\"prayer\" + 0.049*\"http\" + 0.045*\"chamoli\" + 0.027*\"prai\" + 0.027*\"1070\" + 0.026*\"9557444486\" + 0.021*\"emerg\" + 0.020*\"har\" + 0.014*\"helplin\"\n",
            "\n",
            "\n",
            "Topic: 5\n",
            "Words: 0.114*\"uttarakhand\" + 0.053*\"http\" + 0.041*\"glacier\" + 0.034*\"chamoli\" + 0.032*\"prai\" + 0.032*\"prayer\" + 0.022*\"burst\" + 0.021*\"peopl\" + 0.021*\"safeti\" + 0.018*\"flood\"\n",
            "\n",
            "\n",
            "Topic: 6\n",
            "Words: 0.086*\"uttarakhand\" + 0.072*\"http\" + 0.029*\"prayer\" + 0.019*\"flood\" + 0.016*\"peopl\" + 0.011*\"prai\" + 0.010*\"new\" + 0.009*\"villag\" + 0.009*\"hope\" + 0.009*\"affect\"\n",
            "\n",
            "\n",
            "Topic: 7\n",
            "Words: 0.057*\"uttarakhand\" + 0.046*\"http\" + 0.021*\"prayer\" + 0.013*\"amp\" + 0.006*\"state\" + 0.005*\"safe\" + 0.005*\"hope\" + 0.005*\"peopl\" + 0.005*\"kylemay\" + 0.005*\"banvwi\"\n",
            "\n",
            "\n",
            "Topic: 8\n",
            "Words: 0.071*\"uttarakhand\" + 0.052*\"http\" + 0.021*\"prai\" + 0.021*\"chamoli\" + 0.018*\"prayer\" + 0.011*\"amp\" + 0.011*\"flood\" + 0.009*\"glacier\" + 0.007*\"break\" + 0.005*\"itbp\"\n",
            "\n",
            "\n",
            "Topic: 9\n",
            "Words: 0.098*\"uttarakhand\" + 0.057*\"http\" + 0.026*\"prai\" + 0.019*\"peopl\" + 0.019*\"prayer\" + 0.013*\"glacier\" + 0.012*\"chamoli\" + 0.009*\"miss\" + 0.008*\"safeti\" + 0.008*\"hope\"\n",
            "\n",
            "\n",
            "Topic: 10\n",
            "Words: 0.114*\"uttarakhand\" + 0.070*\"http\" + 0.028*\"chamoli\" + 0.024*\"prayer\" + 0.022*\"prai\" + 0.021*\"safe\" + 0.019*\"stai\" + 0.019*\"peopl\" + 0.014*\"glacier\" + 0.008*\"god\"\n",
            "\n",
            "\n",
            "Topic: 11\n",
            "Words: 0.104*\"water\" + 0.089*\"level\" + 0.063*\"http\" + 0.047*\"rishikesh\" + 0.041*\"rise\" + 0.035*\"haridwar\" + 0.032*\"340\" + 0.010*\"reach\" + 0.007*\"flood\" + 0.007*\"uttarakhand\"\n",
            "\n",
            "\n",
            "Topic: 12\n",
            "Words: 0.069*\"http\" + 0.064*\"uttarakhand\" + 0.019*\"prayer\" + 0.018*\"glacier\" + 0.017*\"chamoli\" + 0.014*\"peopl\" + 0.013*\"project\" + 0.012*\"area\" + 0.012*\"power\" + 0.011*\"break\"\n",
            "\n",
            "\n",
            "Topic: 13\n",
            "Words: 0.122*\"uttarakhand\" + 0.087*\"prai\" + 0.048*\"http\" + 0.045*\"safeti\" + 0.018*\"glacier\" + 0.018*\"chamoli\" + 0.017*\"everyon\" + 0.015*\"break\" + 0.014*\"scari\" + 0.013*\"visual\"\n",
            "\n",
            "\n",
            "Topic: 14\n",
            "Words: 0.055*\"http\" + 0.046*\"uttarakhand\" + 0.027*\"glacier\" + 0.027*\"chamoli\" + 0.021*\"break\" + 0.014*\"district\" + 0.014*\"peopl\" + 0.014*\"river\" + 0.012*\"flood\" + 0.011*\"sundai\"\n",
            "\n",
            "\n",
            "Topic: 15\n",
            "Words: 0.048*\"http\" + 0.045*\"uttarakhand\" + 0.020*\"chamoli\" + 0.018*\"peopl\" + 0.017*\"prai\" + 0.014*\"har\" + 0.012*\"prayer\" + 0.010*\"mahadev\" + 0.008*\"uttarakhand…\" + 0.006*\"safeti\"\n",
            "\n",
            "\n",
            "Topic: 16\n",
            "Words: 0.077*\"http\" + 0.038*\"uttarakhand\" + 0.025*\"chamoli\" + 0.023*\"glacier\" + 0.019*\"break\" + 0.015*\"flood\" + 0.014*\"power\" + 0.014*\"project\" + 0.011*\"district\" + 0.009*\"dam\"\n",
            "\n",
            "\n",
            "Topic: 17\n",
            "Words: 0.075*\"uttarakhand\" + 0.056*\"http\" + 0.035*\"chamoli\" + 0.027*\"rescu\" + 0.021*\"flood\" + 0.020*\"glacier\" + 0.018*\"itbp\" + 0.018*\"team\" + 0.011*\"alert\" + 0.010*\"tapovan\"\n",
            "\n",
            "\n",
            "Topic: 18\n",
            "Words: 0.073*\"uttarakhand\" + 0.060*\"http\" + 0.021*\"glacier\" + 0.016*\"prai\" + 0.015*\"peopl\" + 0.014*\"chamoli\" + 0.014*\"prayer\" + 0.013*\"flood\" + 0.013*\"break\" + 0.012*\"god\"\n",
            "\n",
            "\n",
            "Topic: 19\n",
            "Words: 0.064*\"http\" + 0.050*\"uttarakhand\" + 0.027*\"prayer\" + 0.015*\"flood\" + 0.015*\"affect\" + 0.010*\"peopl\" + 0.008*\"area\" + 0.007*\"forc\" + 0.007*\"itbp\" + 0.007*\"help\"\n",
            "\n",
            "\n",
            "Topic: 20\n",
            "Words: 0.063*\"uttarakhand\" + 0.053*\"http\" + 0.033*\"stai\" + 0.021*\"safe\" + 0.019*\"prayer\" + 0.017*\"flood\" + 0.015*\"strong\" + 0.014*\"chamoli\" + 0.013*\"flash\" + 0.011*\"fear\"\n",
            "\n",
            "\n",
            "Topic: 21\n",
            "Words: 0.086*\"uttarakhand\" + 0.069*\"http\" + 0.025*\"peopl\" + 0.024*\"prai\" + 0.019*\"area\" + 0.019*\"chamoli\" + 0.011*\"flood\" + 0.011*\"glacier\" + 0.011*\"help\" + 0.010*\"prayer\"\n",
            "\n",
            "\n",
            "Topic: 22\n",
            "Words: 0.076*\"http\" + 0.064*\"uttarakhand\" + 0.030*\"chamoli\" + 0.015*\"flood\" + 0.013*\"glacier\" + 0.011*\"joshimath\" + 0.011*\"dam\" + 0.010*\"disast\" + 0.010*\"safe\" + 0.008*\"stai\"\n",
            "\n",
            "\n",
            "Topic: 23\n",
            "Words: 0.057*\"http\" + 0.026*\"river\" + 0.026*\"uttarakhand\" + 0.024*\"rise\" + 0.024*\"water\" + 0.023*\"level\" + 0.021*\"dhauliganga\" + 0.021*\"sudden\" + 0.020*\"follow\" + 0.020*\"avalanch\"\n",
            "\n",
            "\n",
            "Topic: 24\n",
            "Words: 0.164*\"uttarakhand\" + 0.122*\"prayer\" + 0.038*\"http\" + 0.015*\"peopl\" + 0.013*\"save\" + 0.012*\"amp\" + 0.010*\"god\" + 0.009*\"water\" + 0.009*\"chamoli\" + 0.007*\"safe\"\n",
            "\n",
            "\n",
            "Topic: 25\n",
            "Words: 0.056*\"http\" + 0.025*\"uttarakhand\" + 0.011*\"armi\" + 0.010*\"team\" + 0.010*\"tragic\" + 0.009*\"villag\" + 0.009*\"medic\" + 0.009*\"prai\" + 0.009*\"column\" + 0.008*\"follow\"\n",
            "\n",
            "\n",
            "Topic: 26\n",
            "Words: 0.094*\"uttarakhand\" + 0.066*\"http\" + 0.035*\"peopl\" + 0.029*\"prayer\" + 0.020*\"prai\" + 0.019*\"chamoli\" + 0.014*\"glacier\" + 0.013*\"itbp\" + 0.011*\"area\" + 0.010*\"district\"\n",
            "\n",
            "\n",
            "Topic: 27\n",
            "Words: 0.114*\"uttarakhand\" + 0.074*\"http\" + 0.058*\"prayer\" + 0.022*\"peopl\" + 0.016*\"chamoli\" + 0.013*\"rescu\" + 0.009*\"disast\" + 0.009*\"hope\" + 0.008*\"oper\" + 0.008*\"prai\"\n",
            "\n",
            "\n",
            "Topic: 28\n",
            "Words: 0.064*\"uttarakhand\" + 0.057*\"http\" + 0.019*\"chamoli\" + 0.016*\"glacier\" + 0.013*\"break\" + 0.010*\"alert\" + 0.008*\"dam\" + 0.008*\"peopl\" + 0.007*\"live\" + 0.007*\"flood\"\n",
            "\n",
            "\n",
            "Topic: 29\n",
            "Words: 0.081*\"uttarakhand\" + 0.063*\"http\" + 0.032*\"glacier\" + 0.030*\"chamoli\" + 0.021*\"burst\" + 0.017*\"amp\" + 0.015*\"disast\" + 0.014*\"district\" + 0.014*\"flood\" + 0.009*\"break\"\n",
            "\n",
            "\n"
          ],
          "name": "stdout"
        }
      ]
    },
    {
      "cell_type": "code",
      "metadata": {
        "id": "m_v_-227TSCZ"
      },
      "source": [
        "lda_model_tfidf=gensim.models.LdaMulticore(corpustfidf,num_topics=30,id2word=dict_df,passes=2,workers=2)"
      ],
      "execution_count": 54,
      "outputs": []
    },
    {
      "cell_type": "code",
      "metadata": {
        "colab": {
          "base_uri": "https://localhost:8080/"
        },
        "id": "VVgBFSTSTcwY",
        "outputId": "288e3ea6-f979-4f1f-a472-0d3faf4aa04c"
      },
      "source": [
        "for idx , topic in lda_model_tfidf.print_topics(-1):\n",
        "  print(f\"Topic: {idx}\\nWords: {topic}\")\n",
        "  print('\\n')"
      ],
      "execution_count": 55,
      "outputs": [
        {
          "output_type": "stream",
          "text": [
            "Topic: 0\n",
            "Words: 0.012*\"prayer\" + 0.008*\"chamoli\" + 0.007*\"prai\" + 0.007*\"new\" + 0.006*\"flood\" + 0.006*\"safeti\" + 0.006*\"glacier\" + 0.005*\"peopl\" + 0.005*\"burst\" + 0.005*\"http\"\n",
            "\n",
            "\n",
            "Topic: 1\n",
            "Words: 0.009*\"chamoli\" + 0.008*\"prayer\" + 0.008*\"prai\" + 0.007*\"safe\" + 0.006*\"flood\" + 0.005*\"help\" + 0.005*\"1070\" + 0.005*\"tsrawatbjp\" + 0.005*\"god\" + 0.005*\"http\"\n",
            "\n",
            "\n",
            "Topic: 2\n",
            "Words: 0.012*\"prayer\" + 0.006*\"chamoli\" + 0.005*\"http\" + 0.005*\"joshimath\" + 0.005*\"glacier\" + 0.005*\"peopl\" + 0.005*\"flood\" + 0.005*\"itbp\" + 0.004*\"uttarakhand\" + 0.004*\"water\"\n",
            "\n",
            "\n",
            "Topic: 3\n",
            "Words: 0.010*\"prai\" + 0.010*\"water\" + 0.009*\"level\" + 0.007*\"chamoli\" + 0.005*\"prayer\" + 0.005*\"glacier\" + 0.005*\"rise\" + 0.004*\"http\" + 0.004*\"flood\" + 0.004*\"amp\"\n",
            "\n",
            "\n",
            "Topic: 4\n",
            "Words: 0.006*\"help\" + 0.006*\"chamoli\" + 0.005*\"center\" + 0.005*\"http\" + 0.005*\"disast\" + 0.005*\"contact\" + 0.005*\"oper\" + 0.005*\"area\" + 0.004*\"flood\" + 0.004*\"har\"\n",
            "\n",
            "\n",
            "Topic: 5\n",
            "Words: 0.018*\"🙏🏼🙏🏼\" + 0.009*\"prayer\" + 0.007*\"chamoli\" + 0.007*\"sad\" + 0.006*\"glacier\" + 0.006*\"break\" + 0.006*\"prai\" + 0.006*\"fear\" + 0.006*\"safe\" + 0.006*\"hope\"\n",
            "\n",
            "\n",
            "Topic: 6\n",
            "Words: 0.026*\"prayer\" + 0.018*\"peopl\" + 0.010*\"stai\" + 0.010*\"safe\" + 0.007*\"chamoli\" + 0.006*\"prai\" + 0.006*\"uttarakhand\" + 0.006*\"safeti\" + 0.005*\"devbhoomi\" + 0.004*\"http\"\n",
            "\n",
            "\n",
            "Topic: 7\n",
            "Words: 0.006*\"prayer\" + 0.005*\"prai\" + 0.005*\"save\" + 0.005*\"peopl\" + 0.005*\"http\" + 0.004*\"hope\" + 0.004*\"safeti\" + 0.004*\"water\" + 0.004*\"hei\" + 0.003*\"new\"\n",
            "\n",
            "\n",
            "Topic: 8\n",
            "Words: 0.229*\"prayer\" + 0.036*\"uttarakhand\" + 0.011*\"peopl\" + 0.010*\"chamoli\" + 0.007*\"🙏🏻🙏🏻\" + 0.005*\"prai\" + 0.004*\"glacierburst\" + 0.004*\"glacier\" + 0.003*\"http\" + 0.003*\"beauti\"\n",
            "\n",
            "\n",
            "Topic: 9\n",
            "Words: 0.013*\"prai\" + 0.011*\"water\" + 0.010*\"level\" + 0.009*\"avalanch\" + 0.008*\"chamoli\" + 0.008*\"glacier\" + 0.008*\"rise\" + 0.007*\"mahadev\" + 0.007*\"safeti\" + 0.007*\"rescu\"\n",
            "\n",
            "\n",
            "Topic: 10\n",
            "Words: 0.037*\"prayer\" + 0.028*\"peopl\" + 0.010*\"prai\" + 0.010*\"chamoli\" + 0.008*\"uttarakhand\" + 0.007*\"safeti\" + 0.006*\"affect\" + 0.005*\"itbp\" + 0.005*\"glacier\" + 0.005*\"rescu\"\n",
            "\n",
            "\n",
            "Topic: 11\n",
            "Words: 0.032*\"stai\" + 0.022*\"safe\" + 0.018*\"strong\" + 0.014*\"🙏🙏🙏\" + 0.012*\"prayer\" + 0.007*\"chamoli\" + 0.006*\"prai\" + 0.006*\"villag\" + 0.005*\"area\" + 0.005*\"peopl\"\n",
            "\n",
            "\n",
            "Topic: 12\n",
            "Words: 0.008*\"prai\" + 0.007*\"peopl\" + 0.007*\"offici\" + 0.007*\"alert\" + 0.006*\"emerg\" + 0.006*\"god\" + 0.006*\"advisori\" + 0.006*\"number\" + 0.006*\"1070\" + 0.006*\"9557444486\"\n",
            "\n",
            "\n",
            "Topic: 13\n",
            "Words: 0.010*\"chamoli\" + 0.009*\"let\" + 0.008*\"prai\" + 0.007*\"hope\" + 0.007*\"joshimath\" + 0.007*\"flood\" + 0.006*\"glacier\" + 0.006*\"safe\" + 0.005*\"casualti\" + 0.005*\"district\"\n",
            "\n",
            "\n",
            "Topic: 14\n",
            "Words: 0.025*\"9557444486\" + 0.023*\"1070\" + 0.023*\"helplin\" + 0.023*\"emerg\" + 0.017*\"chamoli\" + 0.014*\"prayer\" + 0.007*\"peopl\" + 0.007*\"number\" + 0.005*\"india\" + 0.005*\"prai\"\n",
            "\n",
            "\n",
            "Topic: 15\n",
            "Words: 0.037*\"prayer\" + 0.017*\"chamoli\" + 0.008*\"uttarakhand\" + 0.007*\"prai\" + 0.006*\"god\" + 0.006*\"peopl\" + 0.005*\"har\" + 0.005*\"http\" + 0.005*\"1070\" + 0.005*\"9557444486\"\n",
            "\n",
            "\n",
            "Topic: 16\n",
            "Words: 0.006*\"prai\" + 0.006*\"chamoli\" + 0.005*\"http\" + 0.004*\"help\" + 0.004*\"prayer\" + 0.004*\"all🙏\" + 0.004*\"amp\" + 0.004*\"glacier\" + 0.004*\"tragedi\" + 0.004*\"follow\"\n",
            "\n",
            "\n",
            "Topic: 17\n",
            "Words: 0.008*\"chamoli\" + 0.008*\"wonder\" + 0.008*\"small\" + 0.008*\"work\" + 0.006*\"prayer\" + 0.006*\"prai\" + 0.006*\"har\" + 0.006*\"water\" + 0.006*\"level\" + 0.005*\"nearbi\"\n",
            "\n",
            "\n",
            "Topic: 18\n",
            "Words: 0.022*\"prayer\" + 0.019*\"safe\" + 0.010*\"chamoli\" + 0.010*\"stai\" + 0.009*\"peopl\" + 0.008*\"prai\" + 0.008*\"hope\" + 0.007*\"glacier\" + 0.006*\"uttarakhand\" + 0.006*\"safeti\"\n",
            "\n",
            "\n",
            "Topic: 19\n",
            "Words: 0.009*\"alert\" + 0.008*\"prayer\" + 0.008*\"prai\" + 0.007*\"glacier\" + 0.007*\"krishna\" + 0.006*\"hare\" + 0.006*\"chamoli\" + 0.006*\"stai\" + 0.006*\"safe\" + 0.005*\"break\"\n",
            "\n",
            "\n",
            "Topic: 20\n",
            "Words: 0.005*\"disast\" + 0.005*\"prai\" + 0.004*\"chamoli\" + 0.004*\"http\" + 0.004*\"glacier\" + 0.004*\"burst\" + 0.004*\"prayer\" + 0.004*\"joshimath\" + 0.004*\"district\" + 0.004*\"safe\"\n",
            "\n",
            "\n",
            "Topic: 21\n",
            "Words: 0.015*\"prayer\" + 0.014*\"deepest\" + 0.012*\"peopl\" + 0.007*\"chamoli\" + 0.007*\"break\" + 0.007*\"glacier\" + 0.007*\"stai\" + 0.006*\"flood\" + 0.006*\"power\" + 0.006*\"safe\"\n",
            "\n",
            "\n",
            "Topic: 22\n",
            "Words: 0.019*\"prayer\" + 0.012*\"prai\" + 0.012*\"peopl\" + 0.009*\"scari\" + 0.007*\"chamoli\" + 0.006*\"uttarakhand\" + 0.005*\"area\" + 0.005*\"http\" + 0.004*\"glacier\" + 0.004*\"stick\"\n",
            "\n",
            "\n",
            "Topic: 23\n",
            "Words: 0.010*\"prai\" + 0.007*\"peopl\" + 0.006*\"chamoli\" + 0.005*\"prayer\" + 0.005*\"http\" + 0.005*\"affect\" + 0.005*\"flood\" + 0.005*\"150\" + 0.005*\"new\" + 0.004*\"jan\"\n",
            "\n",
            "\n",
            "Topic: 24\n",
            "Words: 0.008*\"prayer\" + 0.007*\"chamoli\" + 0.006*\"flood\" + 0.006*\"peopl\" + 0.005*\"amp\" + 0.005*\"affect\" + 0.005*\"http\" + 0.005*\"massiv\" + 0.005*\"glacier\" + 0.005*\"merci\"\n",
            "\n",
            "\n",
            "Topic: 25\n",
            "Words: 0.097*\"prai\" + 0.045*\"safeti\" + 0.022*\"everyon\" + 0.017*\"scari\" + 0.015*\"uttarakhand\" + 0.015*\"distress\" + 0.015*\"peopl\" + 0.014*\"glacier\" + 0.013*\"visual\" + 0.013*\"come\"\n",
            "\n",
            "\n",
            "Topic: 26\n",
            "Words: 0.009*\"prayer\" + 0.009*\"prai\" + 0.006*\"chamoli\" + 0.006*\"peopl\" + 0.005*\"http\" + 0.005*\"glacier\" + 0.005*\"calam\" + 0.004*\"safeti\" + 0.004*\"flood\" + 0.004*\"uttarakhand\"\n",
            "\n",
            "\n",
            "Topic: 27\n",
            "Words: 0.020*\"god\" + 0.015*\"save\" + 0.008*\"prayer\" + 0.007*\"chamoli\" + 0.006*\"peopl\" + 0.006*\"glacier\" + 0.005*\"prai\" + 0.005*\"http\" + 0.004*\"hope\" + 0.004*\"district\"\n",
            "\n",
            "\n",
            "Topic: 28\n",
            "Words: 0.005*\"glacier\" + 0.004*\"http\" + 0.004*\"chamoli\" + 0.004*\"prai\" + 0.004*\"amp\" + 0.003*\"break\" + 0.003*\"flood\" + 0.003*\"district\" + 0.003*\"burst\" + 0.003*\"peopl\"\n",
            "\n",
            "\n",
            "Topic: 29\n",
            "Words: 0.018*\"prayer\" + 0.011*\"har\" + 0.009*\"mahadev\" + 0.009*\"protect\" + 0.008*\"peopl\" + 0.008*\"chamoli\" + 0.005*\"prai\" + 0.005*\"area\" + 0.005*\"uttarakhand\" + 0.005*\"glacier\"\n",
            "\n",
            "\n"
          ],
          "name": "stdout"
        }
      ]
    },
    {
      "cell_type": "markdown",
      "metadata": {
        "id": "V83r_zXEQEJT"
      },
      "source": [
        "what is the helpline number?\n",
        "9557444486,1070\n",
        "what happened in uttarakhand?\n",
        "In uttrakhand district of chamoli a glacial burst occured which led to flooding of dam and several people were affected\n",
        "How many people are affected?\n",
        " 150\n",
        " which rivers water level rose high?\n",
        " Ganga\n",
        "\n",
        "\n",
        "\n"
      ]
    },
    {
      "cell_type": "code",
      "metadata": {
        "id": "Xrps-OHoZnUZ"
      },
      "source": [
        ""
      ],
      "execution_count": null,
      "outputs": []
    }
  ]
}